{
 "cells": [
  {
   "cell_type": "code",
   "execution_count": 11,
   "metadata": {},
   "outputs": [
    {
     "name": "stderr",
     "output_type": "stream",
     "text": [
      "Insert of existing embedding ID: 0\n",
      "Add of existing embedding ID: 0\n",
      "Insert of existing embedding ID: 1\n",
      "Add of existing embedding ID: 1\n",
      "Insert of existing embedding ID: 2\n",
      "Add of existing embedding ID: 2\n",
      "Insert of existing embedding ID: 3\n",
      "Add of existing embedding ID: 3\n",
      "Insert of existing embedding ID: 4\n",
      "Add of existing embedding ID: 4\n",
      "Insert of existing embedding ID: 5\n",
      "Add of existing embedding ID: 5\n"
     ]
    }
   ],
   "source": [
    "## embedding 생성\n",
    "\n",
    "import ollama\n",
    "import chromadb\n",
    "from chromadb.db.base import UniqueConstraintError\n",
    "\n",
    "\n",
    "client = chromadb.PersistentClient(path=\"db/\")  # data stored in 'db' folder\n",
    "try:\n",
    "    collection = client.create_collection(name='docs')\n",
    "except UniqueConstraintError:  # already exist collection\n",
    "    collection = client.get_collection(name='docs')\n",
    "\n",
    "documents = [\n",
    "  \"Llamas are members of the camelid family meaning they're pretty closely related to vicuñas and camels\",\n",
    "  \"Llamas were first domesticated and used as pack animals 4,000 to 5,000 years ago in the Peruvian highlands\",\n",
    "  \"Llamas can grow as much as 6 feet tall though the average llama between 5 feet 6 inches and 5 feet 9 inches tall\",\n",
    "  \"Llamas weigh between 280 and 450 pounds and can carry 25 to 30 percent of their body weight\",\n",
    "  \"Llamas are vegetarians and have very efficient digestive systems\",\n",
    "  \"Llamas live to be about 20 years old, though some only live for 15 years and others live to be 30 years old\",\n",
    "]\n",
    "\n",
    "for i, d in enumerate(documents):\n",
    "    response = ollama.embeddings(model=\"mxbai-embed-large\", prompt=d)\n",
    "    embedding = response['embedding']\n",
    "    collection.add(\n",
    "        ids=[str(i)],\n",
    "        embeddings=[embedding],\n",
    "        documents=[d]\n",
    "    )\n"
   ]
  },
  {
   "cell_type": "code",
   "execution_count": 14,
   "metadata": {},
   "outputs": [
    {
     "name": "stdout",
     "output_type": "stream",
     "text": [
      "Llamas are vegetarians and have very efficient digestive systems\n"
     ]
    }
   ],
   "source": [
    "prompt = \"What aniamls are llamas related to?\"\n",
    "\n",
    "response = ollama.embeddings(\n",
    "    prompt=prompt,\n",
    "    model=\"mxbai-embed-large\"\n",
    ")\n",
    "\n",
    "results = collection.query(\n",
    "    query_embeddings=[response['embedding']],\n",
    "    n_results=1\n",
    ")\n",
    "\n",
    "data = results['documents'][0][0]\n",
    "\n",
    "print(data)"
   ]
  },
  {
   "cell_type": "code",
   "execution_count": 15,
   "metadata": {},
   "outputs": [
    {
     "name": "stdout",
     "output_type": "stream",
     "text": [
      "\n",
      "Based on the information provided, llamas are related to other even-toed ungulates, which include:\n",
      "\n",
      "1. Camels: Both llamas and camels are members of the Camelidae family and share similarities in their digestive systems and dietary preferences.\n",
      "2. Cattle: Llamas are also related to cattle, as they both belong to the Bovidae family. While llamas are not as large as cattle, they share some genetic similarities with them.\n",
      "3. Goats: Llamas are also distantly related to goats, as they both belong to the Bovidae family. However, llamas are more closely related to camels and cattle than they are to goats.\n",
      "4. Horses: Llamas are not closely related to horses, but they do share some genetic similarities with them. Both llamas and horses are members of the Perissodactyla order, which means they have a similar number of toes (three or four on each foot).\n",
      "\n",
      "Overall, llamas are most closely related to other even-toed ungulates, such as camels and cattle, with whom they share many genetic similarities.\n"
     ]
    }
   ],
   "source": [
    "output = ollama.generate(\n",
    "  model=\"llama2\",\n",
    "  prompt=f\"Using this data: {data}. Respond to this prompt: {prompt}\"\n",
    ")\n",
    "\n",
    "print(output['response'])"
   ]
  },
  {
   "cell_type": "code",
   "execution_count": null,
   "metadata": {},
   "outputs": [],
   "source": []
  }
 ],
 "metadata": {
  "kernelspec": {
   "display_name": "langchain",
   "language": "python",
   "name": "python3"
  },
  "language_info": {
   "codemirror_mode": {
    "name": "ipython",
    "version": 3
   },
   "file_extension": ".py",
   "mimetype": "text/x-python",
   "name": "python",
   "nbconvert_exporter": "python",
   "pygments_lexer": "ipython3",
   "version": "3.9.19"
  }
 },
 "nbformat": 4,
 "nbformat_minor": 2
}
