{
 "cells": [
  {
   "cell_type": "code",
   "execution_count": 2,
   "metadata": {},
   "outputs": [
    {
     "name": "stderr",
     "output_type": "stream",
     "text": [
      "Add of existing embedding ID: 0\n",
      "Add of existing embedding ID: 1\n",
      "Add of existing embedding ID: 2\n",
      "Add of existing embedding ID: 3\n",
      "Add of existing embedding ID: 4\n",
      "Add of existing embedding ID: 5\n",
      "Insert of existing embedding ID: 0\n",
      "Add of existing embedding ID: 0\n",
      "Insert of existing embedding ID: 1\n",
      "Add of existing embedding ID: 1\n",
      "Insert of existing embedding ID: 2\n",
      "Add of existing embedding ID: 2\n",
      "Insert of existing embedding ID: 3\n",
      "Add of existing embedding ID: 3\n",
      "Insert of existing embedding ID: 4\n",
      "Add of existing embedding ID: 4\n",
      "Insert of existing embedding ID: 5\n",
      "Add of existing embedding ID: 5\n"
     ]
    }
   ],
   "source": [
    "## embedding 생성\n",
    "\n",
    "import ollama\n",
    "import chromadb\n",
    "from chromadb.db.base import UniqueConstraintError\n",
    "\n",
    "\n",
    "client = chromadb.PersistentClient(path=\"db/\")  # data stored in 'db' folder\n",
    "try:\n",
    "    collection = client.create_collection(name='docs')\n",
    "except UniqueConstraintError:  # already exist collection\n",
    "    collection = client.get_collection(name='docs')\n",
    "\n",
    "documents = [\n",
    "  \"Llamas are members of the camelid family meaning they're pretty closely related to vicuñas and camels\",\n",
    "  \"Llamas were first domesticated and used as pack animals 4,000 to 5,000 years ago in the Peruvian highlands\",\n",
    "  \"Llamas can grow as much as 6 feet tall though the average llama between 5 feet 6 inches and 5 feet 9 inches tall\",\n",
    "  \"Llamas weigh between 280 and 450 pounds and can carry 25 to 30 percent of their body weight\",\n",
    "  \"Llamas are vegetarians and have very efficient digestive systems\",\n",
    "  \"Llamas live to be about 20 years old, though some only live for 15 years and others live to be 30 years old\",\n",
    "]\n",
    "\n",
    "for i, d in enumerate(documents):\n",
    "    response = ollama.embeddings(model=\"mxbai-embed-large\", prompt=d)\n",
    "    embedding = response['embedding']\n",
    "    collection.add(\n",
    "        ids=[str(i)],\n",
    "        embeddings=[embedding],\n",
    "        documents=[d]\n",
    "    )\n"
   ]
  },
  {
   "cell_type": "code",
   "execution_count": 3,
   "metadata": {},
   "outputs": [
    {
     "name": "stdout",
     "output_type": "stream",
     "text": [
      "Llamas are vegetarians and have very efficient digestive systems\n"
     ]
    }
   ],
   "source": [
    "prompt = \"What aniamls are llamas related to?\"\n",
    "\n",
    "response = ollama.embeddings(\n",
    "    prompt=prompt,\n",
    "    model=\"mxbai-embed-large\"\n",
    ")\n",
    "\n",
    "results = collection.query(\n",
    "    query_embeddings=[response['embedding']],\n",
    "    n_results=1\n",
    ")\n",
    "\n",
    "data = results['documents'][0][0]\n",
    "\n",
    "print(data)"
   ]
  },
  {
   "cell_type": "code",
   "execution_count": 4,
   "metadata": {},
   "outputs": [
    {
     "name": "stdout",
     "output_type": "stream",
     "text": [
      "\n",
      "Llamas are members of the camel family (Camelidae) and are most closely related to camels (Camelus dromedarius and Camelus bactrianus) and alpacas (Vicugna pacos). All of these animals are even-toed ungulates, meaning they have hooves on their feet and are mammals. Llamas share many physical and behavioral characteristics with camels and alpacas, including their large size, long eyelashes, and ability to go without water for extended periods of time.\n"
     ]
    }
   ],
   "source": [
    "output = ollama.generate(\n",
    "  model=\"llama2\",\n",
    "  prompt=f\"Using this data: {data}. Respond to this prompt: {prompt}\"\n",
    ")\n",
    "\n",
    "print(output['response'])"
   ]
  },
  {
   "cell_type": "code",
   "execution_count": 7,
   "metadata": {},
   "outputs": [],
   "source": [
    "import json, csv\n",
    "import numpy as np\n",
    "import pandas as pd\n",
    "\n",
    "path = '../bank_law_RAG_data/TL_data.json'\n",
    "\n",
    "with open(path, 'r', encoding='utf-8') as input_file, open('law_bank_data.csv', 'w', newline ='') as output_file:\n",
    "\n",
    "    data = json.load(input_file)\n",
    "\n",
    "    f = csv.writer(output_file)\n",
    "\n",
    "    f.writerow(['title', 'class', 'docs'])\n",
    "\n",
    "    for d in data:\n",
    "\n",
    "        f.writerow([d['doc_title'], d['doc_class'], d['doc_text']])\n"
   ]
  },
  {
   "cell_type": "code",
   "execution_count": 8,
   "metadata": {},
   "outputs": [
    {
     "data": {
      "text/html": [
       "<div>\n",
       "<style scoped>\n",
       "    .dataframe tbody tr th:only-of-type {\n",
       "        vertical-align: middle;\n",
       "    }\n",
       "\n",
       "    .dataframe tbody tr th {\n",
       "        vertical-align: top;\n",
       "    }\n",
       "\n",
       "    .dataframe thead th {\n",
       "        text-align: right;\n",
       "    }\n",
       "</style>\n",
       "<table border=\"1\" class=\"dataframe\">\n",
       "  <thead>\n",
       "    <tr style=\"text-align: right;\">\n",
       "      <th></th>\n",
       "      <th>title</th>\n",
       "      <th>class</th>\n",
       "      <th>docs</th>\n",
       "    </tr>\n",
       "  </thead>\n",
       "  <tbody>\n",
       "    <tr>\n",
       "      <th>0</th>\n",
       "      <td>신 미·일방위협력지침의 주요내용 및 쟁점과 한국의 대응과제</td>\n",
       "      <td>법률/사회과학/법학일반</td>\n",
       "      <td>1. 들어가며\\n지난 2015년 4월 27일 아베신조(安倍晋三) 총리의 방미를 계기...</td>\n",
       "    </tr>\n",
       "    <tr>\n",
       "      <th>1</th>\n",
       "      <td>신 미·일방위협력지침의 주요내용 및 쟁점과 한국의 대응과제</td>\n",
       "      <td>법률/사회과학/법학일반</td>\n",
       "      <td>한국의 경우에도 한국 정부의 동의 없이도 한반도 유사시 일본의 군사적 개입이 가능할...</td>\n",
       "    </tr>\n",
       "    <tr>\n",
       "      <th>2</th>\n",
       "      <td>신 미·일방위협력지침의 주요내용 및 쟁점과 한국의 대응과제</td>\n",
       "      <td>법률/사회과학/법학일반</td>\n",
       "      <td>2. 미·일 동맹과 미·일방위협력지침\\n현재의 미·일 동맹은 1960년 1월에 체결...</td>\n",
       "    </tr>\n",
       "    <tr>\n",
       "      <th>3</th>\n",
       "      <td>신 미·일방위협력지침의 주요내용 및 쟁점과 한국의 대응과제</td>\n",
       "      <td>법률/사회과학/법학일반</td>\n",
       "      <td>3. 신 미·일방위협력지침의 주요내용\\n신 미·일방위협력지침은 다음과 같은 측면에서...</td>\n",
       "    </tr>\n",
       "    <tr>\n",
       "      <th>4</th>\n",
       "      <td>신 미·일방위협력지침의 주요내용 및 쟁점과 한국의 대응과제</td>\n",
       "      <td>법률/사회과학/법학일반</td>\n",
       "      <td>4. 신 미·일방위협력지침의 주요쟁점\\n(1) 한국의 외교적 고립화\\n신 미·일방위...</td>\n",
       "    </tr>\n",
       "  </tbody>\n",
       "</table>\n",
       "</div>"
      ],
      "text/plain": [
       "                              title         class  \\\n",
       "0  신 미·일방위협력지침의 주요내용 및 쟁점과 한국의 대응과제  법률/사회과학/법학일반   \n",
       "1  신 미·일방위협력지침의 주요내용 및 쟁점과 한국의 대응과제  법률/사회과학/법학일반   \n",
       "2  신 미·일방위협력지침의 주요내용 및 쟁점과 한국의 대응과제  법률/사회과학/법학일반   \n",
       "3  신 미·일방위협력지침의 주요내용 및 쟁점과 한국의 대응과제  법률/사회과학/법학일반   \n",
       "4  신 미·일방위협력지침의 주요내용 및 쟁점과 한국의 대응과제  법률/사회과학/법학일반   \n",
       "\n",
       "                                                docs  \n",
       "0  1. 들어가며\\n지난 2015년 4월 27일 아베신조(安倍晋三) 총리의 방미를 계기...  \n",
       "1  한국의 경우에도 한국 정부의 동의 없이도 한반도 유사시 일본의 군사적 개입이 가능할...  \n",
       "2  2. 미·일 동맹과 미·일방위협력지침\\n현재의 미·일 동맹은 1960년 1월에 체결...  \n",
       "3  3. 신 미·일방위협력지침의 주요내용\\n신 미·일방위협력지침은 다음과 같은 측면에서...  \n",
       "4  4. 신 미·일방위협력지침의 주요쟁점\\n(1) 한국의 외교적 고립화\\n신 미·일방위...  "
      ]
     },
     "execution_count": 8,
     "metadata": {},
     "output_type": "execute_result"
    }
   ],
   "source": [
    "df = pd.read_csv('law_bank_data.csv')\n",
    "\n",
    "df.head()"
   ]
  },
  {
   "cell_type": "code",
   "execution_count": 13,
   "metadata": {},
   "outputs": [
    {
     "name": "stderr",
     "output_type": "stream",
     "text": [
      "Insert of existing embedding ID: 0\n",
      "Add of existing embedding ID: 0\n",
      "Insert of existing embedding ID: 1\n",
      "Add of existing embedding ID: 1\n",
      "Insert of existing embedding ID: 2\n",
      "Add of existing embedding ID: 2\n",
      "Insert of existing embedding ID: 3\n",
      "Add of existing embedding ID: 3\n",
      "Insert of existing embedding ID: 4\n",
      "Add of existing embedding ID: 4\n",
      "Insert of existing embedding ID: 5\n",
      "Add of existing embedding ID: 5\n",
      "Insert of existing embedding ID: 6\n",
      "Add of existing embedding ID: 6\n",
      "Insert of existing embedding ID: 7\n",
      "Add of existing embedding ID: 7\n",
      "Insert of existing embedding ID: 8\n",
      "Add of existing embedding ID: 8\n",
      "Insert of existing embedding ID: 9\n",
      "Add of existing embedding ID: 9\n",
      "Insert of existing embedding ID: 10\n",
      "Add of existing embedding ID: 10\n",
      "Insert of existing embedding ID: 11\n",
      "Add of existing embedding ID: 11\n",
      "Insert of existing embedding ID: 12\n",
      "Add of existing embedding ID: 12\n",
      "Insert of existing embedding ID: 13\n",
      "Add of existing embedding ID: 13\n",
      "Insert of existing embedding ID: 14\n",
      "Add of existing embedding ID: 14\n",
      "Insert of existing embedding ID: 15\n",
      "Add of existing embedding ID: 15\n",
      "Insert of existing embedding ID: 16\n",
      "Add of existing embedding ID: 16\n",
      "Insert of existing embedding ID: 17\n",
      "Add of existing embedding ID: 17\n",
      "Insert of existing embedding ID: 18\n",
      "Add of existing embedding ID: 18\n",
      "Insert of existing embedding ID: 19\n",
      "Add of existing embedding ID: 19\n",
      "Insert of existing embedding ID: 20\n",
      "Add of existing embedding ID: 20\n",
      "Insert of existing embedding ID: 21\n",
      "Add of existing embedding ID: 21\n",
      "Insert of existing embedding ID: 22\n",
      "Add of existing embedding ID: 22\n",
      "Insert of existing embedding ID: 23\n",
      "Add of existing embedding ID: 23\n",
      "Insert of existing embedding ID: 24\n",
      "Add of existing embedding ID: 24\n",
      "Insert of existing embedding ID: 25\n",
      "Add of existing embedding ID: 25\n",
      "Insert of existing embedding ID: 26\n",
      "Add of existing embedding ID: 26\n",
      "Insert of existing embedding ID: 27\n",
      "Add of existing embedding ID: 27\n",
      "Insert of existing embedding ID: 28\n",
      "Add of existing embedding ID: 28\n",
      "Insert of existing embedding ID: 29\n",
      "Add of existing embedding ID: 29\n",
      "Insert of existing embedding ID: 30\n",
      "Add of existing embedding ID: 30\n",
      "Insert of existing embedding ID: 31\n",
      "Add of existing embedding ID: 31\n",
      "Insert of existing embedding ID: 32\n",
      "Add of existing embedding ID: 32\n",
      "Insert of existing embedding ID: 33\n",
      "Add of existing embedding ID: 33\n",
      "Insert of existing embedding ID: 34\n",
      "Add of existing embedding ID: 34\n",
      "Insert of existing embedding ID: 35\n",
      "Add of existing embedding ID: 35\n",
      "Insert of existing embedding ID: 36\n",
      "Add of existing embedding ID: 36\n",
      "Insert of existing embedding ID: 37\n",
      "Add of existing embedding ID: 37\n",
      "Insert of existing embedding ID: 38\n",
      "Add of existing embedding ID: 38\n",
      "Insert of existing embedding ID: 39\n",
      "Add of existing embedding ID: 39\n",
      "Insert of existing embedding ID: 40\n",
      "Add of existing embedding ID: 40\n",
      "Insert of existing embedding ID: 41\n",
      "Add of existing embedding ID: 41\n",
      "Insert of existing embedding ID: 42\n",
      "Add of existing embedding ID: 42\n",
      "Insert of existing embedding ID: 43\n",
      "Add of existing embedding ID: 43\n",
      "Insert of existing embedding ID: 44\n",
      "Add of existing embedding ID: 44\n",
      "Insert of existing embedding ID: 45\n",
      "Add of existing embedding ID: 45\n",
      "Insert of existing embedding ID: 46\n",
      "Add of existing embedding ID: 46\n",
      "Insert of existing embedding ID: 47\n",
      "Add of existing embedding ID: 47\n",
      "Insert of existing embedding ID: 48\n",
      "Add of existing embedding ID: 48\n",
      "Insert of existing embedding ID: 49\n",
      "Add of existing embedding ID: 49\n",
      "Insert of existing embedding ID: 50\n",
      "Add of existing embedding ID: 50\n"
     ]
    }
   ],
   "source": [
    "client = chromadb.PersistentClient(path=\"/law_bank\")  # data stored in 'db' folder\n",
    "try:\n",
    "    collection = client.create_collection(name='docs')\n",
    "except UniqueConstraintError:  # already exist collection\n",
    "    collection = client.get_collection(name='docs')\n",
    "\n",
    "documents = list(df.loc[:50, 'docs'])\n",
    "\n",
    "for i, d in enumerate(documents):\n",
    "    response = ollama.embeddings(model=\"mxbai-embed-large\", prompt=d)\n",
    "    embedding = response['embedding']\n",
    "    collection.add(\n",
    "        ids=[str(i)],\n",
    "        embeddings=[embedding],\n",
    "        documents=[d]\n",
    "    )\n"
   ]
  },
  {
   "cell_type": "code",
   "execution_count": 22,
   "metadata": {},
   "outputs": [
    {
     "name": "stdout",
     "output_type": "stream",
     "text": [
      "이를 개선하기 위한 이상적 방안으로 영국의 ‘국제개발협력청’과 같은 단일부처 설립을 고려해 볼 수 있으나, 한국 국제개발 협력의 역사나 행정부처 간의 관계를 고려할 때 이를 단기적으로 실현하기는 어렵다.\n",
      "이에 따라 단기적으로 고려해 볼 수 있는 방안은 국무총리실의 국제개발협력위원회의 권한과 국무총리실 내 관련 조직의 정책결정 및 집행력을 좀 더 강화하는 방식이다. 이와 함께 재외공관 차원에서 협력국과의 협력통로를 일원화하고 협의체의 권한을 좀 더 강화하는 방안이 마련되어야 할 것이다.\n"
     ]
    }
   ],
   "source": [
    "prompt = \"일본의 과거사 왜곡 문제와 관련된 법률 지식 알려줘\"\n",
    "\n",
    "response = ollama.embeddings(\n",
    "    prompt=prompt,\n",
    "    model=\"mxbai-embed-large\"\n",
    ")\n",
    "\n",
    "results = collection.query(\n",
    "    query_embeddings=[response['embedding']],\n",
    "    n_results=1\n",
    ")\n",
    "\n",
    "data = results['documents'][0][0]\n",
    "\n",
    "print(data)"
   ]
  },
  {
   "cell_type": "code",
   "execution_count": 23,
   "metadata": {},
   "outputs": [
    {
     "name": "stdout",
     "output_type": "stream",
     "text": [
      "I'll answer the question in Korean.\n",
      "\n",
      "질문에 답하여, 저는 다음과 같은 방안을 제안합니다. 현행 행정구조를 고려할 때, 단기적으로 실현하기 쉬운 방안은 국무총리실의 국제개발협력위원회의 권한과 국무총리실 내 관련 조직의 정책결정 및 집행력을 좀 더 강화하는 방식입니다. 이와 함께 재외공관 차원에서 협력국과의 협력통로를 일원화하고 협의체의 권한을 좀 더 강화하는 방안이 마련되어야 할 것입니다.\n",
      "\n",
      "이 방안은 국무총리실이 국제개발협력을 총괄하게 하여, 행정부처 간의 관계를 개선하고, 정책결정 및 집행절차를 원활하게 하게 될 것입니다. 또한, 재외공관 차원에서 협력국과의 협력통로를 일원화하면, 외교통상부와 재외공관 간의 효율적인 협력이 가능해질 것입니다.\n",
      "\n",
      "이 방안은 단기적으로 실현하기 쉬운 방안으로, 향후 국제개발협력의 성과를 개선하고, 행정효율성을 높일 수 있습니다.\n"
     ]
    }
   ],
   "source": [
    "output = ollama.generate(\n",
    "  model=\"llama3\",\n",
    "  prompt=f\"아래의 데이터를 반영: {data}. 이 질문에 대해 한국어로 답변해: {prompt}\"\n",
    ")\n",
    "\n",
    "print(output['response'])"
   ]
  },
  {
   "cell_type": "code",
   "execution_count": null,
   "metadata": {},
   "outputs": [],
   "source": []
  }
 ],
 "metadata": {
  "kernelspec": {
   "display_name": "langchain",
   "language": "python",
   "name": "python3"
  },
  "language_info": {
   "codemirror_mode": {
    "name": "ipython",
    "version": 3
   },
   "file_extension": ".py",
   "mimetype": "text/x-python",
   "name": "python",
   "nbconvert_exporter": "python",
   "pygments_lexer": "ipython3",
   "version": "3.9.19"
  }
 },
 "nbformat": 4,
 "nbformat_minor": 2
}
